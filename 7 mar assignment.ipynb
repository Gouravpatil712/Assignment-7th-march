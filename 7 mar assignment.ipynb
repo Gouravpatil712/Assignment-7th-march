{
 "cells": [
  {
   "cell_type": "markdown",
   "id": "afeaf8c1-bfa8-4d51-93b7-7b09d800511e",
   "metadata": {},
   "source": [
    "## Question 01 - What are the three measures of central tendency?"
   ]
  },
  {
   "cell_type": "markdown",
   "id": "557ae03e-4dc4-42ac-b0d7-9eed397c3f04",
   "metadata": {},
   "source": [
    "# Answer :-\n",
    "\n",
    "The three measures of central tendency are:\n",
    "\n",
    "1. Mean: The mean is the sum of all values in a dataset divided by the total number of values. It represents the average value of the dataset.\n",
    "\n",
    "2. Median: The median is the middle value in a dataset when the values are arranged in ascending or descending order. It represents the value that separates the dataset into two equal halves.\n",
    "\n",
    "3. Mode: The mode is the value that appears most frequently in a dataset. It represents the most common value in the dataset.\n",
    "\n",
    "All three measures are used to describe the \"center\" of a distribution of data, but they can produce different results in different situations."
   ]
  },
  {
   "cell_type": "markdown",
   "id": "3921c19d-f066-4f26-817b-9eca4ac0557c",
   "metadata": {},
   "source": [
    "## Question 02 - What is the difference between the mean, median, and mode? How are they used to measure the central tendency of a dataset?"
   ]
  },
  {
   "cell_type": "markdown",
   "id": "73d03d06-706b-4082-a3f5-79795336a3b4",
   "metadata": {},
   "source": [
    "## Answer :-\n",
    "\n",
    "The mean, median, and mode are measures of central tendency used to describe the center or typical value of a dataset.\n",
    "\n",
    "The mean is the sum of all values in a dataset divided by the total number of values. It represents the average value of the dataset. The mean is sensitive to outliers, as extreme values can skew the average. For example, if a dataset contains values of 1, 2, 3, 4, and 100, the mean would be 22 (110 divided by 5), even though 100 is an outlier that does not represent the typical value in the dataset.\n",
    "\n",
    "The median is the middle value in a dataset when the values are arranged in ascending or descending order. It represents the value that separates the dataset into two equal halves. The median is less sensitive to outliers than the mean, as extreme values do not affect the middle value. For example, if a dataset contains values of 1, 2, 3, 4, and 100, the median would be 3 (the value in the middle of the ordered list), which is a more representative measure of the typical value in the dataset.\n",
    "\n",
    "The mode is the value that appears most frequently in a dataset. It represents the most common value in the dataset. The mode is useful when looking for a value that occurs frequently, or to identify the most likely outcome in a dataset. For example, if a dataset contains values of 1, 2, 3, 3, and 4, the mode would be 3, which is the value that appears most frequently in the dataset.\n",
    "\n",
    "In summary, the mean, median, and mode are all measures of central tendency used to describe the typical value in a dataset, but they each have their strengths and weaknesses. The choice of which measure to use depends on the characteristics of the dataset and the specific questions being asked."
   ]
  },
  {
   "cell_type": "markdown",
   "id": "b97b7edc-86d9-47b9-91cd-9461652c368e",
   "metadata": {},
   "source": [
    "## Question 03 -Measure the three measures of central tendency for the given height data:\n",
    "[178,177,176,177,178.2,178,175,179,180,175,178.9,176.2,177,172.5,178,176.5]"
   ]
  },
  {
   "cell_type": "markdown",
   "id": "fd9e86ab-e6be-43cd-899a-5bea3393834a",
   "metadata": {},
   "source": [
    "## Answer :-\n",
    "\n",
    "Mean: To find the mean height, we add up all the heights and divide by the total number of heights:"
   ]
  },
  {
   "cell_type": "code",
   "execution_count": 5,
   "id": "170629c5-5216-41b0-b5c9-b7c8306331f5",
   "metadata": {},
   "outputs": [],
   "source": [
    "import numpy as np"
   ]
  },
  {
   "cell_type": "code",
   "execution_count": 6,
   "id": "56a2d08d-14f8-424e-b913-d1d00999c821",
   "metadata": {},
   "outputs": [],
   "source": [
    "lst = [178,177,176,177,178.2,178,175,179,180,175,178.9,176.2,177,172.5,178,176.5]"
   ]
  },
  {
   "cell_type": "code",
   "execution_count": 7,
   "id": "dddbe859-3b69-4681-a638-f399b3f25f84",
   "metadata": {},
   "outputs": [
    {
     "data": {
      "text/plain": [
       "177.01875"
      ]
     },
     "execution_count": 7,
     "metadata": {},
     "output_type": "execute_result"
    }
   ],
   "source": [
    "np.mean(lst)"
   ]
  },
  {
   "cell_type": "code",
   "execution_count": 8,
   "id": "05c2f5e0-055d-45d8-9957-c66a74e3a75f",
   "metadata": {},
   "outputs": [
    {
     "data": {
      "text/plain": [
       "177.0"
      ]
     },
     "execution_count": 8,
     "metadata": {},
     "output_type": "execute_result"
    }
   ],
   "source": [
    "# Median: To find the median height, we need to order the dataset from smallest to largest and find the middle value. In this case, the ordered dataset is:\n",
    "np.median(lst)"
   ]
  },
  {
   "cell_type": "markdown",
   "id": "cda90ad6-0e7d-4efa-a767-7eab9011c2a8",
   "metadata": {},
   "source": [
    "Mode: To find the mode height, we need to identify the value that occurs most frequently in the dataset. In this case, the value that occurs most frequently is 178, which occurs four times. Therefore, the mode height in this dataset is 178 cm."
   ]
  },
  {
   "cell_type": "markdown",
   "id": "57487eae-53fe-4a7a-b758-1b76a44dbdde",
   "metadata": {},
   "source": [
    "## Question 04 - Find the standard deviation for the given data:\n",
    "[178,177,176,177,178.2,178,175,179,180,175,178.9,176.2,177,172.5,178,176.5]"
   ]
  },
  {
   "cell_type": "code",
   "execution_count": 10,
   "id": "94f2e4f9-7537-4495-ac31-aa1e5a479435",
   "metadata": {},
   "outputs": [
    {
     "name": "stdout",
     "output_type": "stream",
     "text": [
      "Standard deviation: 1.847238930584419\n"
     ]
    }
   ],
   "source": [
    "## Answer :-\n",
    "\n",
    "import numpy as np\n",
    "\n",
    "data = [178,177,176,177,178.2,178,175,179,180,175,178.9,176.2,177,172.5,178,176.5]\n",
    "\n",
    "std_dev = np.std(data, ddof=1)\n",
    "\n",
    "print(\"Standard deviation:\", std_dev)\n"
   ]
  },
  {
   "cell_type": "markdown",
   "id": "a30e7422-c903-4afd-9205-ff1bb41b88e8",
   "metadata": {},
   "source": [
    "## Question 05 - How are measures of dispersion such as range, variance, and standard deviation used to describe the spread of a dataset? Provide an example."
   ]
  },
  {
   "cell_type": "markdown",
   "id": "bfac4270-79e9-41dc-be8d-55fb49acdfbd",
   "metadata": {},
   "source": [
    "# Answer :-\n",
    "\n",
    "Measures of dispersion, such as range, variance, and standard deviation, are used to describe how spread out the data in a dataset is. These measures help to understand how much variability there is in the data and how much it deviates from the central tendency.\n",
    "\n",
    "1. Range: The range is the difference between the maximum and minimum values in a dataset. It provides a quick and easy way to see how spread out the data is. However, it can be sensitive to outliers and does not take into account the distribution of the data. For example, if we have a dataset of test scores for a class of 30 students, the range would be the difference between the highest and lowest scores, such as 90-50=40.\n",
    "\n",
    "2. Variance: The variance is a measure of how much the data deviates from the mean. It is calculated by taking the average of the squared differences between each data point and the mean. The variance gives an idea of the spread of the data around the mean. A high variance indicates that the data points are widely spread out, while a low variance indicates that they are clustered around the mean. For example, if we have a dataset of salaries for a company's employees, the variance would measure how much the individual salaries deviate from the average salary of the company.\n",
    "\n",
    "3. Standard deviation: The standard deviation is the square root of the variance. It provides a measure of the spread of the data in the same units as the original data. The standard deviation is often used because it is more intuitive than the variance and easier to interpret. For example, if we have a dataset of heights of students in a class, the standard deviation would measure how much the individual heights deviate from the average height of the class.\n",
    "\n",
    "In summary, measures of dispersion such as range, variance, and standard deviation are used to describe the spread of a dataset. They help to understand how much variability there is in the data and how much it deviates from the central tendency. For example, in a dataset of test scores, the range would indicate how much the scores varied, while the variance and standard deviation would indicate how much the scores deviated from the average score."
   ]
  },
  {
   "cell_type": "markdown",
   "id": "84bcf6ec-5db2-403c-8bfa-c731416cc60d",
   "metadata": {},
   "source": [
    "# Question 06 - What is a Venn diagram?"
   ]
  },
  {
   "cell_type": "markdown",
   "id": "e62c7e03-dafe-4089-893e-4b524c03a77b",
   "metadata": {},
   "source": [
    "# Answer :-\n",
    "\n",
    "A Venn diagram is a graphical representation of the relationships between sets of data. It consists of overlapping circles or other closed shapes, each representing a set. The circles or shapes indicate the degree of overlap between the sets.\n",
    "\n",
    "In a Venn diagram, the overlapping region between two or more sets represents the intersection of those sets, or the elements that are common to all of the sets. The non-overlapping regions represent the elements that are unique to each set. The size of each region in the Venn diagram is proportional to the number of elements in that set.\n",
    "\n",
    "Venn diagrams are commonly used in various fields such as mathematics, logic, statistics, computer science, and even in marketing and business to represent the relationships between different groups of data. They are also used to solve logical problems and to understand the concept of probability.\n",
    "\n",
    "For example, a Venn diagram can be used to represent the relationship between different types of fruits. The circles can represent sets of different fruits, such as apples, oranges, and bananas. The overlapping regions represent fruits that belong to more than one set, such as oranges that are also citrus fruits. The non-overlapping regions represent fruits that belong to only one set, such as apples that are not citrus fruits.\n",
    "\n",
    "Overall, Venn diagrams are a powerful and intuitive tool to visualize and understand the relationships between sets of data."
   ]
  },
  {
   "cell_type": "markdown",
   "id": "c25fa820-52cf-4b2f-825b-3d5acee51a9e",
   "metadata": {},
   "source": [
    "## Question 07 - For the two given sets A = (2,3,4,5,6,7) & B = (0,2,6,8,10). Find:\n",
    "(i) A B\n",
    "(ii) A ⋃ B"
   ]
  },
  {
   "cell_type": "markdown",
   "id": "86543344-4422-4f03-a0d3-5ad33896139f",
   "metadata": {},
   "source": [
    "# Answer :-\n",
    "\n",
    "(i) A intersection B: The intersection of A and B is the set of elements that are common to both A and B. In this case, A ∩ B = {2, 6} since these are the only elements that appear in both sets.\n",
    "\n",
    "(ii) A union B: The union of A and B is the set of all elements that appear in either A or B or both. In this case, A ⋃ B = {0, 2, 3, 4, 5, 6, 7, 8, 10} since this is the set of all elements that appear in A or B or both."
   ]
  },
  {
   "cell_type": "markdown",
   "id": "53685c0b-dc6b-4d17-8192-bbbf93936073",
   "metadata": {},
   "source": [
    "## Question 08 - What do you understand about skewness in data?"
   ]
  },
  {
   "cell_type": "markdown",
   "id": "113c2977-7cd6-4958-b432-f04bc8ec3b71",
   "metadata": {},
   "source": [
    "# Answer :- \n",
    "\n",
    "Skewness is a measure of the asymmetry of a probability distribution or a dataset. It is a measure of how much the data deviates from the normal distribution or symmetric distribution. In a symmetric distribution, the mean, median, and mode are equal, and the data is evenly distributed around the center. In an asymmetric or skewed distribution, the mean, median, and mode are not equal, and the data is more concentrated on one side of the center than the other.\n",
    "\n",
    "Positive skewness occurs when the data is skewed to the right, meaning that the tail of the distribution is longer on the right side and the majority of the data is concentrated on the left side. Negative skewness occurs when the data is skewed to the left, meaning that the tail of the distribution is longer on the left side and the majority of the data is concentrated on the right side.\n",
    "\n",
    "Skewness is a useful measure in statistics and data analysis because it provides information about the shape of the distribution and can affect the interpretation of other statistical measures like the mean and standard deviation."
   ]
  },
  {
   "cell_type": "markdown",
   "id": "35b2f303-a044-44f2-b67c-004f2396c00a",
   "metadata": {},
   "source": [
    "## Question 09 - If a data is right skewed then what will be the position of median with respect to mean?"
   ]
  },
  {
   "cell_type": "markdown",
   "id": "fb01af2f-87db-450a-a1be-653a53ac10ad",
   "metadata": {},
   "source": [
    "## Answer :-\n",
    "\n",
    "If a data is right skewed, the median will be less than the mean.\n",
    "\n",
    "In a right-skewed distribution, the tail of the distribution is longer on the right side, and there are some extreme values on the right side that pull the mean towards the right. Since the median is not affected by extreme values, it will be closer to the bulk of the data, which is concentrated on the left side of the distribution. Therefore, the median will be less than the mean in a right-skewed distribution."
   ]
  },
  {
   "cell_type": "markdown",
   "id": "178a42d9-8467-4300-8db3-e05305dc4254",
   "metadata": {},
   "source": [
    "# Question 10 - Explain the difference between covariance and correlation. How are these measures used in statistical analysis?"
   ]
  },
  {
   "cell_type": "markdown",
   "id": "bd5dd131-6753-47ed-8093-508e0b60f3aa",
   "metadata": {},
   "source": [
    "# Answer :-\n",
    "\n",
    "Covariance and correlation are two measures of the relationship between two variables, but they differ in their interpretation and scale.\n",
    "\n",
    "Covariance measures the direction and strength of the linear relationship between two variables. It is a measure of how much two variables vary together. A positive covariance indicates that the two variables tend to move in the same direction, while a negative covariance indicates that they tend to move in opposite directions. However, covariance alone does not tell us the magnitude or strength of the relationship, as it is affected by the scale of the variables.\n",
    "\n",
    "Correlation, on the other hand, is a standardized measure of the linear relationship between two variables. It measures the strength and direction of the relationship between two variables on a scale from -1 to 1, where -1 indicates a perfect negative correlation, 0 indicates no correlation, and 1 indicates a perfect positive correlation. Correlation is unaffected by the scale of the variables, making it a more useful measure of the strength of the relationship between variables than covariance.\n",
    "\n",
    "Both covariance and correlation are used in statistical analysis to determine the relationship between variables. They are used to identify patterns and trends in the data, to test hypotheses, and to build models that predict the relationship between variables. In particular, correlation is commonly used in regression analysis to model the relationship between a dependent variable and one or more independent variables."
   ]
  },
  {
   "cell_type": "markdown",
   "id": "f64c334f-eb3b-4605-b9bc-469b0889f814",
   "metadata": {},
   "source": [
    "## Question 11 - What is the formula for calculating the sample mean? Provide an example calculation for a dataset."
   ]
  },
  {
   "cell_type": "markdown",
   "id": "0246083c-0516-4191-b6df-2906c547b7bf",
   "metadata": {},
   "source": [
    "# Answer :-\n",
    "\n",
    "The formula for calculating the sample mean is:\n",
    "\n",
    "sample mean = (sum of all observations) / (number of observations)\n",
    "\n",
    "In other words, to calculate the sample mean, you add up all the values in your dataset and divide by the total number of observations.\n",
    "\n",
    "For example, suppose we have the following dataset of five observations:\n",
    "\n",
    "2, 5, 7, 8, 10\n",
    "\n",
    "To calculate the sample mean, we add up all the observations and divide by the total number of observations:\n",
    "\n",
    "sample mean = (2 + 5 + 7 + 8 + 10) / 5 = 32 / 5 = 6.4\n",
    "\n",
    "Therefore, the sample mean for this dataset is 6.4."
   ]
  },
  {
   "cell_type": "markdown",
   "id": "f67553c5-202d-4e75-8113-308affb24a3d",
   "metadata": {},
   "source": [
    "## Question 12 - For a normal distribution data what is the relationship between its measure of central tendency?"
   ]
  },
  {
   "cell_type": "markdown",
   "id": "968aee87-accc-4c49-8933-8812b8b02a59",
   "metadata": {},
   "source": [
    "# Answer :-\n",
    "\n",
    "For a normal distribution data, the mean, median, and mode are all equal. This means that the distribution is symmetric around the central value, and there are equal amounts of data on both sides of the central value.\n",
    "\n",
    "In a normal distribution, the mean is typically used as the measure of central tendency because it takes into account all the data points in the distribution. However, in cases where the data is skewed, the median may be a better measure of central tendency as it is less sensitive to extreme values.\n",
    "\n",
    "Overall, in a normal distribution, the mean, median, and mode are all equal, indicating that the distribution is symmetric and there is no skewness."
   ]
  },
  {
   "cell_type": "markdown",
   "id": "9079f4e7-98a2-4126-bb57-07a7c4b3783b",
   "metadata": {},
   "source": [
    "# Question 13 - How is covariance different from correlation?"
   ]
  },
  {
   "cell_type": "markdown",
   "id": "bb11911d-4ea3-4778-b8f3-787bf96b9fb3",
   "metadata": {},
   "source": [
    "# Answer :-\n",
    "\n",
    "Covariance and correlation are both measures of the relationship between two variables, but they differ in their interpretation and scale.\n",
    "\n",
    "Covariance measures the direction and strength of the linear relationship between two variables. It is a measure of how much two variables vary together. A positive covariance indicates that the two variables tend to move in the same direction, while a negative covariance indicates that they tend to move in opposite directions. However, covariance alone does not tell us the magnitude or strength of the relationship, as it is affected by the scale of the variables.\n",
    "\n",
    "Correlation, on the other hand, is a standardized measure of the linear relationship between two variables. It measures the strength and direction of the relationship between two variables on a scale from -1 to 1, where -1 indicates a perfect negative correlation, 0 indicates no correlation, and 1 indicates a perfect positive correlation. Correlation is unaffected by the scale of the variables, making it a more useful measure of the strength of the relationship between variables than covariance.\n",
    "\n",
    "In summary, the main difference between covariance and correlation is that covariance measures the direction and strength of the linear relationship between two variables, while correlation measures the strength and direction of the linear relationship between two variables on a standardized scale that is unaffected by the scale of the variables."
   ]
  },
  {
   "cell_type": "markdown",
   "id": "fa3ccf2e-384b-4151-92f8-df275da877d3",
   "metadata": {},
   "source": [
    "## Question 14 - How do outliers affect measures of central tendency and dispersion? Provide an example."
   ]
  },
  {
   "cell_type": "markdown",
   "id": "17cc3f40-58e0-41d3-9d79-b696eca4d7ce",
   "metadata": {},
   "source": [
    "# Answer :-\n",
    "\n",
    "Outliers can have a significant impact on measures of central tendency and dispersion.\n",
    "\n",
    "For measures of central tendency such as the mean, outliers can significantly pull the mean away from the center of the data distribution. This is because the mean is sensitive to extreme values and outliers, as it takes into account all the values in the dataset. As a result, if there are one or more outliers in the data, the mean can be significantly skewed away from the center of the distribution.\n",
    "\n",
    "For measures of dispersion such as the range, interquartile range, variance, and standard deviation, outliers can also have a significant impact. This is because these measures are calculated based on the spread of the data points around the central tendency, and outliers can significantly increase the spread of the data. The range, for example, is the difference between the highest and lowest values in the dataset, and a single outlier can significantly increase the range. Similarly, the variance and standard deviation are calculated based on the squared differences between each value and the mean, and outliers can greatly increase these differences and inflate the variance and standard deviation.\n",
    "\n",
    "For example, consider the following dataset:\n",
    "\n",
    "3, 5, 7, 9, 10, 12, 15, 20, 25, 30, 40, 50, 100\n",
    "\n",
    "The mean of this dataset is 21.7, but the presence of the outlier 100 significantly skews the mean away from the center of the distribution. Similarly, the range of this dataset is 97, but the presence of the outlier 100 significantly increases the range. Finally, the variance of this dataset is 1099.25 and the standard deviation is 33.13, but the presence of the outlier 100 greatly inflates these measures."
   ]
  },
  {
   "cell_type": "code",
   "execution_count": null,
   "id": "b272882d-2498-4698-b6ae-e599d818858c",
   "metadata": {},
   "outputs": [],
   "source": []
  }
 ],
 "metadata": {
  "kernelspec": {
   "display_name": "Python 3 (ipykernel)",
   "language": "python",
   "name": "python3"
  },
  "language_info": {
   "codemirror_mode": {
    "name": "ipython",
    "version": 3
   },
   "file_extension": ".py",
   "mimetype": "text/x-python",
   "name": "python",
   "nbconvert_exporter": "python",
   "pygments_lexer": "ipython3",
   "version": "3.10.8"
  }
 },
 "nbformat": 4,
 "nbformat_minor": 5
}
